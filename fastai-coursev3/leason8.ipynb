{
 "cells": [
  {
   "cell_type": "markdown",
   "metadata": {},
   "source": [
    "## Leason 8 Notes"
   ]
  },
  {
   "cell_type": "markdown",
   "metadata": {},
   "source": [
    "### Objective:\n",
    "[Jump to Lecture](https://youtu.be/4u8FxNEDUeg?t=72)"
   ]
  },
  {
   "cell_type": "markdown",
   "metadata": {},
   "source": [
    "1. Implement from Foundation\n",
    "    - Basic matrix calculus\n",
    "    - Training loops with callbacks\n",
    "    - Custom optimizer\n",
    "    - Custom annealing\n",
    "    - Regularization\n",
    "    - Dataset/Data Loader/Data Blocks API\n",
    "    - Lots of layers and architectures\n",
    "    - Jupyter dev, testing and docs\n",
    "2. Read papers\n",
    "3. Learn more AI stuff\n",
    "    - Object detection\n",
    "    - seq2seq/attention\n",
    "    - Transformer/XL\n",
    "    - CycleGAN\n",
    "    - Audio\n",
    "4. Performance\n",
    "    - distributed training\n",
    "    - JIT\n",
    "    - CUDA/C++\n",
    "5. implement fastai in Swift"
   ]
  },
  {
   "cell_type": "markdown",
   "metadata": {},
   "source": [
    "### Requirements:\n",
    "[Jump to Lecture](https://youtu.be/4u8FxNEDUeg?t=1180)"
   ]
  },
  {
   "cell_type": "markdown",
   "metadata": {},
   "source": [
    "- Affine functions & non-linearities\n",
    "- Parameters & activations\n",
    "- Random init & transfer learning\n",
    "- SG\n",
    "- Convolutions\n",
    "- Batch-norm\n",
    "- Dropout\n",
    "- Data augmentation\n",
    "- Weight decay\n",
    "- Res/dense blocks\n",
    "- Image Classification and regression\n",
    "- Embeddings\n",
    "- Continuous & Categorical Variables\n",
    "- Collaborative filtering\n",
    "- Language models; NLP classification\n",
    "- Segmentation; U-net; GANs"
   ]
  },
  {
   "cell_type": "markdown",
   "metadata": {},
   "source": [
    "### Steps for developing model\n",
    "[Jump to Lecture](https://youtu.be/4u8FxNEDUeg?t=1260)"
   ]
  },
  {
   "cell_type": "markdown",
   "metadata": {},
   "source": [
    "1. Create model that overfit\n",
    "2. Reduce overfitting\n",
    "3. Plot result along the way"
   ]
  },
  {
   "cell_type": "markdown",
   "metadata": {},
   "source": [
    "### Five steps to avoiding overfitting"
   ]
  },
  {
   "cell_type": "markdown",
   "metadata": {},
   "source": [
    "1. More data\n",
    "2. Data augmentation\n",
    "3. Generalizable architectures\n",
    "4. Regularization\n",
    "5. Reduce architecture complexity"
   ]
  },
  {
   "cell_type": "markdown",
   "metadata": {},
   "source": [
    "### Steps to create a basic modern CNN model\n",
    "[Jump to Lecture](https://youtu.be/4u8FxNEDUeg?t=1582)"
   ]
  },
  {
   "cell_type": "markdown",
   "metadata": {},
   "source": [
    "1. Matrix Multiplcation\n",
    "2. Relu/Init\n",
    "3. FC forward\n",
    "4. FC backward\n",
    "5. Train loop\n",
    "6. Conv\n",
    "7. Optim\n",
    "8. Batchnorm\n",
    "9. Resnet"
   ]
  },
  {
   "cell_type": "markdown",
   "metadata": {},
   "source": [
    "### Jupyter notebook to python script\n",
    "[Jump to lecture](https://youtu.be/4u8FxNEDUeg?t=1691)"
   ]
  },
  {
   "cell_type": "markdown",
   "metadata": {},
   "source": [
    "[Matrix Multiplication demo](matrixmultiplication.xyz)"
   ]
  },
  {
   "cell_type": "markdown",
   "metadata": {},
   "source": [
    "[Jump to lecture](https://youtu.be/4u8FxNEDUeg?t=2161)"
   ]
  },
  {
   "cell_type": "code",
   "execution_count": null,
   "metadata": {},
   "outputs": [],
   "source": []
  }
 ],
 "metadata": {
  "kernelspec": {
   "display_name": "Python 3",
   "language": "python",
   "name": "python3"
  },
  "language_info": {
   "codemirror_mode": {
    "name": "ipython",
    "version": 3
   },
   "file_extension": ".py",
   "mimetype": "text/x-python",
   "name": "python",
   "nbconvert_exporter": "python",
   "pygments_lexer": "ipython3",
   "version": "3.7.4"
  }
 },
 "nbformat": 4,
 "nbformat_minor": 4
}
