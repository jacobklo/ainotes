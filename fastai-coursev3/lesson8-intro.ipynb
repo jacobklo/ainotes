{
 "cells": [
  {
   "cell_type": "markdown",
   "metadata": {},
   "source": [
    "# Lesson 8 "
   ]
  },
  {
   "cell_type": "markdown",
   "metadata": {},
   "source": [
    "## Deep Learning from the Foundations \n",
    "[[00:00]](https://youtu.be/4u8FxNEDUeg)\n",
    "\n",
    "(aka “Impractical Deep Learning for Coders”)\n",
    "\n",
    "\n",
    "- Implement much of fastai from Foundations\n",
    "    - Basic matrix calculus; Training loops w callbacks; Custom optimizer; custom annealing; regularization; dataset, loader, and blocks\n",
    "    - Lots of layers and architectures\n",
    "    - Jupyter dev, testing and docs\n",
    "\n",
    "- Read papers, and implement them. We’ll even do some new research!\n",
    "\n",
    "- Learn object detection, seq2seq/attention, Transformer/XL, CycleGAN, Audio…\n",
    "\n",
    "- Performance: distributed training, JIT, CUDA/C++\n",
    "\n",
    "- Implement some of fastai in Swift"
   ]
  },
  {
   "cell_type": "markdown",
   "metadata": {},
   "source": [
    "This part 2 of the course in version 3 is different than perious version, which is more deeper advanced concepts on different papers. This version teach you how to read paper your own, and convert it to code. That's why it is called Impractical Deep Learning for coders."
   ]
  },
  {
   "cell_type": "markdown",
   "metadata": {},
   "source": [
    "![](lesson8/l8-1.png)\n",
    "\n",
    "[[05:17]](https://youtu.be/4u8FxNEDUeg?t=317)\n",
    "\n",
    "Part 1 of this course was top-down, so that you got the context you needed to understand, you got the motivation you needed to keep going, and you got the results that you needed to make it useful.\n",
    "\n",
    "But bottom-up is useful too. Bottom-up let's you when you've built everything from the bottom yourself, then you can see the connections between all the different things. You can see they're all variations of the same thing you know, and then you can customize rather than picking algorithm A or algorithm B. You create your own algorithm to solve your own problem doing just the things you need it to do, and then you can make sure that you know that it performs well; you can debug it, profile it, maintain it, because you understand all of the pieces. \n",
    "\n",
    "Normally when people say bottom-up in in in this world in this field they mean bottom-up with math, This course mean bottom-up with code. It's because bottom up with code means that you can experiment really deeply on every part of every bit of the system."
   ]
  },
  {
   "cell_type": "markdown",
   "metadata": {},
   "source": [
    "![](lesson8/l8-2.png)\n",
    "\n",
    "[[07:30]](https://youtu.be/4u8FxNEDUeg?t=408)\n",
    "\n",
    "Chris Lattner built LLVM, clang, and Swift.\n",
    "<br>We now have people build library that has building compiler experiences.\n",
    "Swift is a good numerical programming language that was built by somebody that really gets programming languages.\n",
    "<br><br>\n",
    "None of these languages ( Lisp, R, Python ) were built to be good at data analysis they weren't built by people that really deeply understood compilers, or kind of modern highly parallel processor.\n",
    "<br><br>\n",
    "Julia is another recommended language, but it is 10x less used, doesn't have some level of community."
   ]
  },
  {
   "cell_type": "markdown",
   "metadata": {},
   "source": [
    "![](lesson8/l8-3.png)\n",
    "\n",
    "[[09:42]](https://youtu.be/4u8FxNEDUeg?t=582)\n",
    "\n",
    "Swift could create code from scratch that was competitive with the fastest hand-tuned vend or linear algebra libraries now."
   ]
  },
  {
   "cell_type": "markdown",
   "metadata": {},
   "source": [
    "![](lesson8/l8-4.png)\n",
    "\n",
    "[[10:49]](https://youtu.be/4u8FxNEDUeg?t=649)\n",
    "\n",
    "Pytorches and pythons pros you can get stuff done right now with this amazing ecosystem fantastic documentation and tutorials, it's just a really great practical system for solving problems and to be clear Swift for tensorflow is not it's not any of those things right now.\n",
    "\n",
    "MLIR compiler, basically get Swift for tensorflow to talk to LLVM directly. So it is very fast.\n",
    "\n",
    "Python as you'll see today we almost never actually write Python code. We run code in Python that gets turned into some other language or library and that's what what it gets run and  this mismatch between what I'm trying to write and what actually gets run makes it very hard to do the kind of deep dives that we're going to do in this course."
   ]
  },
  {
   "cell_type": "markdown",
   "metadata": {},
   "source": [
    "![](lesson8/l8-5.png)\n",
    "\n",
    "[[14:50]](https://youtu.be/4u8FxNEDUeg?t=890)\n",
    "\n",
    "To recreate fastai, we're only allowed to use these bits. We are allowed to use pure Python; anything in the Python standard library; any non data science modules, so like a requests library for HTTP or whatever; we can use Pytorch but only for creating arrays, random number generation, and indexing into arrays; we can use the fastai datasets library because that's the thing that has access to like MNIST and stuff, so we don't have to worry about writing our own HTTP stuff; and we can use matplotlib so we don't have to write our own plotting library. That's it.\n",
    "\n",
    "Each time we have replicated some piece of fastai or Pytorch from the foundations we can then use the real version if we want to.\n",
    "\n",
    "What I've discovered is I started doing that is that I started actually making things a lot better than before. Because there was a whole lot of things I could have done better and so you'll find the same thing as you go along this journey. You'll find decisions that I made or the Pytorch team made or whatever. You think what if they'd made a different decision there and you can you know maybe come up with more examples of things that we could do differently."
   ]
  },
  {
   "cell_type": "markdown",
   "metadata": {},
   "source": [
    "![](lesson8/l8-6.png)\n",
    "\n",
    "[[17:03]](https://youtu.be/4u8FxNEDUeg?t=1023)\n",
    "\n",
    "If you can create something from scratch yourself you know that you understand it and then once you've created something from scratch and you really understand it then you can tweak everything\n",
    "\n",
    "For those of you interested in going deeper into research you'll be implementing papers which means you'll be able to correlate the code that you're writing with the paper that you're reading and if you're poor mathematician, then you'll find that you'll be getting a much better understanding of papers you might otherwise have thought were beyond you and you realize that all those Greek symbols actually just map to pieces of code that you're already very familiar with"
   ]
  },
  {
   "cell_type": "markdown",
   "metadata": {},
   "source": [
    "![](lesson8/l8-7.png)\n",
    "\n",
    "[[18:46]](https://youtu.be/4u8FxNEDUeg?t=1126)\n",
    "\n"
   ]
  },
  {
   "cell_type": "markdown",
   "metadata": {},
   "source": [
    "![](lesson8/l8-8.png)\n",
    "\n",
    "If you are not familiar these concept, go back to part 1."
   ]
  },
  {
   "cell_type": "code",
   "execution_count": null,
   "metadata": {},
   "outputs": [],
   "source": []
  }
 ],
 "metadata": {
  "kernelspec": {
   "display_name": "Python 3",
   "language": "python",
   "name": "python3"
  },
  "language_info": {
   "codemirror_mode": {
    "name": "ipython",
    "version": 3
   },
   "file_extension": ".py",
   "mimetype": "text/x-python",
   "name": "python",
   "nbconvert_exporter": "python",
   "pygments_lexer": "ipython3",
   "version": "3.7.3"
  }
 },
 "nbformat": 4,
 "nbformat_minor": 4
}
