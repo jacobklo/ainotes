{
 "cells": [
  {
   "cell_type": "markdown",
   "metadata": {},
   "source": [
    "## Data Preparation\n",
    "\n",
    "We need to make all the features as clear for the neural network to pick up as possible.\n",
    "\n",
    "E.g. If we only have 1 feature of date, it is hard for neural network to pick up, is a pattern happen on weekend.\n",
    "\n",
    "So, we can pre-process and create a new feature called is_weekend.\n",
    "\n",
    "![](lesson6/lesson6-1.png)"
   ]
  },
  {
   "cell_type": "markdown",
   "metadata": {},
   "source": [
    "## Fastai preprocessor - Categorify\n",
    "![](lesson6/lesson6-2.png)\n",
    "\n",
    "Some of the values in the panda dataframe is a string of multiple values, this preprocessor is going to internally convert those into numbers.\n",
    "\n",
    "E.g. \"Jan,Apr,Jul,Oct\" was a string, and it is converted to list of numbers that store internally.\n",
    "\n",
    "This get all the categories shows in this column\n",
    "```\n",
    "small_train_df.PromoInterval.cat.categories\n",
    "```\n",
    "\n",
    "This show the internal number\n",
    "```\n",
    "small_train_df['PromoInterval'].cat.codes\n",
    "```\n",
    "-1 in codes means NaN"
   ]
  },
  {
   "cell_type": "markdown",
   "metadata": {},
   "source": [
    "## fastai preprocessor - fill_missing\n",
    "![](lesson6/lesson6-3.png)\n",
    "Create a new boolean feature, and identify TRUE for missing data in FEATURE_na; false for otherwise\n",
    "\n",
    "For the original data that is missing, it will put median into it."
   ]
  },
  {
   "cell_type": "code",
   "execution_count": null,
   "metadata": {},
   "outputs": [],
   "source": []
  }
 ],
 "metadata": {
  "kernelspec": {
   "display_name": "Python 3",
   "language": "python",
   "name": "python3"
  },
  "language_info": {
   "codemirror_mode": {
    "name": "ipython",
    "version": 3
   },
   "file_extension": ".py",
   "mimetype": "text/x-python",
   "name": "python",
   "nbconvert_exporter": "python",
   "pygments_lexer": "ipython3",
   "version": "3.7.3"
  }
 },
 "nbformat": 4,
 "nbformat_minor": 4
}
